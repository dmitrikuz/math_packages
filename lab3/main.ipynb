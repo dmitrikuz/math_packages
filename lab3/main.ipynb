{
 "cells": [
  {
   "cell_type": "markdown",
   "metadata": {},
   "source": [
    "# Лабораторная работа №3\n",
    "#### Студент: Кузьмин Дмитрий\n",
    "#### Группа 9382\n",
    "#### Вариант 9"
   ]
  },
  {
   "cell_type": "markdown",
   "metadata": {},
   "source": [
    "### 1. Диофантово уравнение"
   ]
  },
  {
   "cell_type": "markdown",
   "metadata": {},
   "source": [
    "$ 2576x - 2461y = -115$ "
   ]
  },
  {
   "cell_type": "code",
   "execution_count": 8,
   "metadata": {},
   "outputs": [],
   "source": [
    "from sympy.solvers.diophantine.diophantine import base_solution_linear\n",
    "from sympy.abc import k\n",
    "from sympy import symbols\n"
   ]
  },
  {
   "cell_type": "code",
   "execution_count": 9,
   "metadata": {},
   "outputs": [
    {
     "data": {
      "text/plain": [
       "(107*k - 215, 112*k - 225)"
      ]
     },
     "execution_count": 9,
     "metadata": {},
     "output_type": "execute_result"
    }
   ],
   "source": [
    "base_solution_linear(-115, 2576, -2461, k)"
   ]
  },
  {
   "cell_type": "markdown",
   "metadata": {},
   "source": [
    "Ответ: $x = -215 + 107k, y = -225 + 112k$"
   ]
  },
  {
   "cell_type": "markdown",
   "metadata": {},
   "source": [
    "### 2. RSA"
   ]
  },
  {
   "cell_type": "markdown",
   "metadata": {},
   "source": [
    "Русское слово из четырех букв закодировано при помощи алгоритма RSA открытым ключом (e = 9, m = 34).\n",
    "Шифрованное сообщение имеет вид (19; 21; 26; 2). Подберите закрытую часть ключа и прочитайте исходное слово.\n",
    "Буквам русского алфавита соответсвуют числа в диапазоне от 2 до 32 (исключены буквы “e” и “ъ”)."
   ]
  },
  {
   "cell_type": "code",
   "execution_count": 10,
   "metadata": {},
   "outputs": [],
   "source": [
    "from sympy.crypto.crypto import encipher_rsa, decipher_rsa\n",
    "from sympy.crypto.crypto import rsa_public_key, rsa_private_key\n",
    "from sympy.core.numbers import mod_inverse\n"
   ]
  },
  {
   "cell_type": "code",
   "execution_count": 11,
   "metadata": {},
   "outputs": [],
   "source": [
    "import math\n",
    "def factorized(n):\n",
    "    factors = [1]\n",
    "    for t in range(2, (math.ceil((n / 2) + 1))):\n",
    "        if n % t == 0:\n",
    "            factors.append(t)\n",
    "\n",
    "    factors.append(n)\n",
    "    return factors[1: -1]\n"
   ]
  },
  {
   "cell_type": "code",
   "execution_count": 12,
   "metadata": {},
   "outputs": [
    {
     "name": "stdout",
     "output_type": "stream",
     "text": [
      "2 17\n",
      "9\n",
      "[19, 21, 26, 2]\n",
      "суша"
     ]
    }
   ],
   "source": [
    "n = 34\n",
    "e = 9\n",
    "word = [19, 21, 26, 2]\n",
    "p, q = factorized(n)\n",
    "print(p, q)\n",
    "decrypted = []\n",
    "d = mod_inverse(e, (p - 1)*(q - 1))\n",
    "print(d)\n",
    "for l in word:\n",
    "    decrypted.append(decipher_rsa(l, (n, d)))\n",
    "cyrillic = [chr(i) for i in range(ord('а'), ord('я') + 1)]\n",
    "cyrillic.remove('ъ')\n",
    "print(decrypted)\n",
    "for dl in decrypted:\n",
    "    print(cyrillic[dl - 2], sep=\"\", end=\"\")"
   ]
  },
  {
   "cell_type": "markdown",
   "metadata": {},
   "source": [
    "Ответ: СУША"
   ]
  },
  {
   "cell_type": "markdown",
   "metadata": {},
   "source": [
    "## 3. Преобразование булевой функции"
   ]
  },
  {
   "cell_type": "markdown",
   "metadata": {},
   "source": [
    "$ f (x, y, z) = ((zy) ∨ (x ∨ z)) \\ xor \\ ((x \\ xor \\ y)y) $"
   ]
  },
  {
   "cell_type": "markdown",
   "metadata": {},
   "source": [
    "### ДНФ"
   ]
  },
  {
   "cell_type": "code",
   "execution_count": 13,
   "metadata": {},
   "outputs": [
    {
     "data": {
      "text/latex": [
       "$\\displaystyle x \\vee \\left(y \\wedge \\neg z\\right) \\vee \\left(z \\wedge \\neg y\\right)$"
      ],
      "text/plain": [
       "x | (y & ~z) | (z & ~y)"
      ]
     },
     "execution_count": 13,
     "metadata": {},
     "output_type": "execute_result"
    }
   ],
   "source": [
    "from sympy.logic.boolalg import to_dnf, to_cnf\n",
    "x, y, z = symbols('x y z')\n",
    "formula = ((z&y) | (x|z)) ^ ((x ^ y) & y) \n",
    "to_dnf(formula, simplify=True)"
   ]
  },
  {
   "cell_type": "markdown",
   "metadata": {},
   "source": [
    "### КНФ"
   ]
  },
  {
   "cell_type": "code",
   "execution_count": 14,
   "metadata": {},
   "outputs": [
    {
     "data": {
      "text/latex": [
       "$\\displaystyle \\left(x \\vee y \\vee z\\right) \\wedge \\left(x \\vee \\neg y \\vee \\neg z\\right)$"
      ],
      "text/plain": [
       "(x | y | z) & (x | ~y | ~z)"
      ]
     },
     "execution_count": 14,
     "metadata": {},
     "output_type": "execute_result"
    }
   ],
   "source": [
    "to_cnf(formula, simplify=True)"
   ]
  }
 ],
 "metadata": {
  "kernelspec": {
   "display_name": "Python 3",
   "language": "python",
   "name": "python3"
  },
  "language_info": {
   "codemirror_mode": {
    "name": "ipython",
    "version": 3
   },
   "file_extension": ".py",
   "mimetype": "text/x-python",
   "name": "python",
   "nbconvert_exporter": "python",
   "pygments_lexer": "ipython3",
   "version": "3.9.2"
  },
  "orig_nbformat": 4
 },
 "nbformat": 4,
 "nbformat_minor": 2
}
